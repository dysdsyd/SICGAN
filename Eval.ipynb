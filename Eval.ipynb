{
 "cells": [
  {
   "cell_type": "code",
   "execution_count": null,
   "metadata": {},
   "outputs": [],
   "source": [
    "!nvidia-smi"
   ]
  },
  {
   "cell_type": "code",
   "execution_count": 1,
   "metadata": {},
   "outputs": [],
   "source": [
    "%matplotlib inline\n",
    "%reload_ext autoreload\n",
    "%autoreload 2"
   ]
  },
  {
   "cell_type": "code",
   "execution_count": 3,
   "metadata": {},
   "outputs": [
    {
     "data": {
      "text/html": [
       "<style>.container { width:80% !important; }</style>"
      ],
      "text/plain": [
       "<IPython.core.display.HTML object>"
      ]
     },
     "metadata": {},
     "output_type": "display_data"
    }
   ],
   "source": [
    "import logging\n",
    "import numpy as np\n",
    "import torch, os\n",
    "from sicgan.utils.metrics import compare_meshes\n",
    "from tqdm import tqdm\n",
    "\n",
    "from IPython.core.display import display, HTML\n",
    "from sicgan.config import Config\n",
    "from sicgan.models import Pixel2MeshHead\n",
    "from sicgan.models import GraphConvClf\n",
    "from mpl_toolkits.mplot3d import Axes3D\n",
    "from sicgan.models import MeshLoss\n",
    "from pytorch3d.io import load_obj, save_obj\n",
    "import matplotlib.pyplot as plt\n",
    "import matplotlib as mpl\n",
    "import matplotlib.animation #import FuncAnimation\n",
    "from matplotlib.animation import FuncAnimation\n",
    "\n",
    "\n",
    "from sicgan.data.build_data_loader import build_data_loader\n",
    "display(HTML(\"<style>.container { width:80% !important; }</style>\"))\n",
    "device = torch.device(\"cuda:0\")"
   ]
  },
  {
   "cell_type": "code",
   "execution_count": 4,
   "metadata": {},
   "outputs": [],
   "source": [
    "from PyGEL3D import gel\n",
    "from PyGEL3D import js\n",
    "def plot_mesh(mesh):\n",
    "    save_obj('mesh.obj', mesh.verts_packed(), mesh.faces_packed())\n",
    "    js.set_export_mode()\n",
    "    m = gel.obj_load('mesh.obj')\n",
    "    js.display(m, smooth=False)"
   ]
  },
  {
   "cell_type": "code",
   "execution_count": 20,
   "metadata": {},
   "outputs": [],
   "source": [
    "_C = Config('config/train_p2m.yml',[])"
   ]
  },
  {
   "cell_type": "code",
   "execution_count": 21,
   "metadata": {},
   "outputs": [
    {
     "data": {
      "text/plain": [
       "1500"
      ]
     },
     "execution_count": 21,
     "metadata": {},
     "output_type": "execute_result"
    }
   ],
   "source": [
    "data_loader = build_data_loader(_C, \"MeshVox\", split_name='test', multigpu=False)\n",
    "len(data_loader)"
   ]
  },
  {
   "cell_type": "code",
   "execution_count": 7,
   "metadata": {},
   "outputs": [],
   "source": [
    "cp = torch.load('pixel2mesh_R50.pth')[\"best_states\"][\"model\"]\n",
    "from collections import OrderedDict\n",
    "new_cp = OrderedDict()\n",
    "for k, v in cp.items():\n",
    "    name = k[7:] # remove `module.`\n",
    "    if name != 'K':\n",
    "        new_cp[name] = v"
   ]
  },
  {
   "cell_type": "code",
   "execution_count": 9,
   "metadata": {},
   "outputs": [
    {
     "data": {
      "text/plain": [
       "<All keys matched successfully>"
      ]
     },
     "execution_count": 9,
     "metadata": {},
     "output_type": "execute_result"
    }
   ],
   "source": [
    "model = Pixel2MeshHead(_C).cuda()\n",
    "model.load_state_dict(new_cp)"
   ]
  },
  {
   "cell_type": "code",
   "execution_count": 22,
   "metadata": {},
   "outputs": [
    {
     "name": "stderr",
     "output_type": "stream",
     "text": [
      "  0%|          | 0/1500 [00:01<?, ?it/s]\n"
     ]
    }
   ],
   "source": [
    "for batch in tqdm(data_loader):\n",
    "    batch = data_loader.postprocess(batch, device)\n",
    "    imgs, meshes_gt = batch[0], batch[1]\n",
    "    break"
   ]
  },
  {
   "cell_type": "code",
   "execution_count": 23,
   "metadata": {},
   "outputs": [
    {
     "data": {
      "text/plain": [
       "torch.Size([32, 3, 137, 137])"
      ]
     },
     "execution_count": 23,
     "metadata": {},
     "output_type": "execute_result"
    }
   ],
   "source": [
    "imgs.shape"
   ]
  },
  {
   "cell_type": "code",
   "execution_count": 24,
   "metadata": {},
   "outputs": [],
   "source": [
    "_,m = model(imgs)"
   ]
  },
  {
   "cell_type": "code",
   "execution_count": 25,
   "metadata": {},
   "outputs": [
    {
     "data": {
      "text/plain": [
       "[<pytorch3d.structures.meshes.Meshes at 0x2b3c08660280>,\n",
       " <pytorch3d.structures.meshes.Meshes at 0x2b3c08af9fd0>,\n",
       " <pytorch3d.structures.meshes.Meshes at 0x2b3b8e82d8e0>]"
      ]
     },
     "execution_count": 25,
     "metadata": {},
     "output_type": "execute_result"
    }
   ],
   "source": [
    "m"
   ]
  },
  {
   "cell_type": "code",
   "execution_count": null,
   "metadata": {
    "scrolled": false
   },
   "outputs": [],
   "source": [
    "plot_mesh(meshes_gt)"
   ]
  },
  {
   "cell_type": "code",
   "execution_count": null,
   "metadata": {},
   "outputs": [],
   "source": [
    "plot_mesh(meshes_pred[-1])"
   ]
  },
  {
   "cell_type": "markdown",
   "metadata": {},
   "source": [
    "# Evaluation  - Change this"
   ]
  },
  {
   "cell_type": "code",
   "execution_count": null,
   "metadata": {},
   "outputs": [],
   "source": [
    "from pytorch3d.ops import sample_points_from_meshes\n",
    "from pytorch3d.loss import (\n",
    "    chamfer_distance, \n",
    "    mesh_edge_loss, \n",
    "    mesh_laplacian_smoothing, \n",
    "    mesh_normal_consistency,\n",
    ")"
   ]
  },
  {
   "cell_type": "code",
   "execution_count": null,
   "metadata": {},
   "outputs": [],
   "source": [
    "device = torch.device(\"cuda:0\")\n",
    "class_names = {\n",
    "    \"03001627\": \"chair\",\n",
    "    \"04379243\": \"table\",\n",
    "}\n",
    "\n",
    "num_instances = {i: 0 for i in class_names}\n",
    "chamfer = {i: 0 for i in class_names}\n",
    "# normal = {i: 0 for i in class_names}\n",
    "f1_1e_4 = {i: 0 for i in class_names}\n",
    "f1_2e_4 = {i: 0 for i in class_names}"
   ]
  },
  {
   "cell_type": "code",
   "execution_count": null,
   "metadata": {},
   "outputs": [],
   "source": [
    "loss_fn_kwargs = {\n",
    "    \"chamfer_weight\": 1,\n",
    "    \"normal_weight\": 0,\n",
    "    \"edge_weight\": 0,\n",
    "    \"gt_num_samples\": 5000,\n",
    "    \"pred_num_samples\": 5000,\n",
    "}\n",
    "\n",
    "mesh_loss = MeshLoss(**loss_fn_kwargs).cuda()"
   ]
  },
  {
   "cell_type": "code",
   "execution_count": null,
   "metadata": {},
   "outputs": [],
   "source": [
    "sample_trg = sample_points_from_meshes(meshes_gt, 5000)\n",
    "sample_src = sample_points_from_meshes(meshes_pred[-1], 5000)\n",
    "chamfer_distance(sample_trg, sample_src)"
   ]
  },
  {
   "cell_type": "code",
   "execution_count": null,
   "metadata": {},
   "outputs": [],
   "source": [
    "num_batch_evaluated = 0\n",
    "cd_chair = []\n",
    "cd_table = []\n",
    "for batch in tqdm(data_loader):\n",
    "    batch = data_loader.postprocess(batch, device)\n",
    "    imgs, meshes_gt, _, _, id_strs = batch\n",
    "#     sids = [id_str.split(\"-\")[0] for id_str in id_strs]\n",
    "    sid = id_strs[0].split(\"-\")[0]\n",
    "#     for sid in sids:\n",
    "#         num_instances[sid] += 1\n",
    "\n",
    "    # with inference_context(model):\n",
    "    \n",
    "    # Change this\n",
    "    _,meshes_pred = model(imgs)     #Removed Voxels\n",
    "    \n",
    "    loss, _ = mesh_loss(meshes_gt, meshes_pred[-1])\n",
    "    if sid == '03001627':\n",
    "        cd_chair.append(loss.item())\n",
    "    elif sid == '04379243':\n",
    "        cd_table.append(loss.item())\n",
    "\n",
    "\n",
    "#     cur_metrics = compare_meshes(\n",
    "#         meshes_pred[-1], meshes_gt, scale=0.57, thresholds=[0.01, 0.014142], reduce=False\n",
    "#     )\n",
    "#     cur_metrics[\"verts_per_mesh\"] = meshes_pred[-1].num_verts_per_mesh().cpu()\n",
    "#     cur_metrics[\"faces_per_mesh\"] = meshes_pred[-1].num_faces_per_mesh().cpu()\n",
    "\n",
    "#     for i, sid in enumerate(sids):\n",
    "#         chamfer[sid] += cur_metrics[\"Chamfer-L2\"][i].item()\n",
    "#         # normal[sid] += cur_metrics[\"AbsNormalConsistency\"][i].item()\n",
    "#         f1_1e_4[sid] += cur_metrics[\"F1@%f\" % 0.01][i].item()\n",
    "#         f1_2e_4[sid] += cur_metrics[\"F1@%f\" % 0.014142][i].item()\n",
    "\n",
    "#     num_batch_evaluated += 1\n",
    "#     print(\"Evaluated %d / %d batches\" % (num_batch_evaluated, len(data_loader)))"
   ]
  },
  {
   "cell_type": "code",
   "execution_count": null,
   "metadata": {},
   "outputs": [],
   "source": [
    "{\"chamfer\": chamfer, \"f1_1e_4\": f1_1e_4, \"f1_2e_4\": f1_2e_4}"
   ]
  },
  {
   "cell_type": "code",
   "execution_count": null,
   "metadata": {},
   "outputs": [],
   "source": [
    "import numpy as np"
   ]
  },
  {
   "cell_type": "code",
   "execution_count": null,
   "metadata": {
    "scrolled": false
   },
   "outputs": [],
   "source": [
    "np.mean(cd_chair), np.mean(cd_table)"
   ]
  },
  {
   "cell_type": "code",
   "execution_count": null,
   "metadata": {},
   "outputs": [],
   "source": []
  }
 ],
 "metadata": {
  "kernelspec": {
   "display_name": "dasyed",
   "language": "python",
   "name": "dasyed"
  },
  "language_info": {
   "codemirror_mode": {
    "name": "ipython",
    "version": 3
   },
   "file_extension": ".py",
   "mimetype": "text/x-python",
   "name": "python",
   "nbconvert_exporter": "python",
   "pygments_lexer": "ipython3",
   "version": "3.8.1"
  }
 },
 "nbformat": 4,
 "nbformat_minor": 4
}
